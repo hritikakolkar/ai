{
 "cells": [
  {
   "cell_type": "code",
   "execution_count": 197,
   "metadata": {},
   "outputs": [],
   "source": [
    "import numpy as np\n",
    "import torch\n",
    "import torch.nn as nn\n",
    "import torch.optim as optim\n",
    "import matplotlib.pyplot as plt"
   ]
  },
  {
   "attachments": {},
   "cell_type": "markdown",
   "metadata": {},
   "source": [
    "### Generating Synthetic data for Sine Wave Function"
   ]
  },
  {
   "cell_type": "code",
   "execution_count": 198,
   "metadata": {},
   "outputs": [],
   "source": [
    "torch.manual_seed(0)\n",
    "x = torch.randn(1000000, 1)\n",
    "y = torch.sin(x)\n",
    "# feature engineering\n",
    "x = torch.column_stack([x**i for i in range(1, 50, 2)])\n",
    "x_train = x[:800000]\n",
    "y_train = y[:800000]\n",
    "x_test = x[800000:]\n",
    "y_test = y[800000:]"
   ]
  },
  {
   "attachments": {},
   "cell_type": "markdown",
   "metadata": {},
   "source": [
    "\\begin{equation}\n",
    "\\sin(x) = \\sum_{n=0}^\\infty \\frac{(-1)^n}{(2n+1)!} x^{2n+1}\n",
    "\\end{equation}\n",
    "\n",
    "\n",
    "\\begin{equation}\n",
    "\\begin{align*}\n",
    "\\sin(x) &= x - \\frac{x^3}{3!} + \\frac{x^5}{5!} - \\frac{x^7}{7!} + \\cdots + {(-1)^n}\\frac{x^n}{n!} = \\sum_{n=0}^\\infty \\frac{(-1)^n}{(2n+1)!} x^{2n+1}\n",
    "\\end{align*}\n",
    "\\end{equation}\n",
    "\n",
    "Created features on x like $x^3$, $x^5$, $x^7$, $x^9$,... $x^{2n+1}$\n"
   ]
  },
  {
   "cell_type": "code",
   "execution_count": 199,
   "metadata": {},
   "outputs": [
    {
     "data": {
      "text/plain": [
       "(torch.Size([1000000, 25]), torch.Size([1000000, 1]))"
      ]
     },
     "execution_count": 199,
     "metadata": {},
     "output_type": "execute_result"
    }
   ],
   "source": [
    "x.shape, y.shape"
   ]
  },
  {
   "attachments": {},
   "cell_type": "markdown",
   "metadata": {},
   "source": [
    "### Designing the Model Architecture"
   ]
  },
  {
   "cell_type": "code",
   "execution_count": 200,
   "metadata": {},
   "outputs": [],
   "source": [
    "model = nn.Sequential(\n",
    "    nn.Linear(x.shape[1], 10),\n",
    "    nn.ReLU(),\n",
    "    nn.Linear(10, 10),\n",
    "    nn.ReLU(),\n",
    "    nn.Linear(10, 1),\n",
    "    nn.Tanh()\n",
    ")"
   ]
  },
  {
   "attachments": {},
   "cell_type": "markdown",
   "metadata": {},
   "source": [
    "### Loss Functions and Optimizers"
   ]
  },
  {
   "cell_type": "code",
   "execution_count": 201,
   "metadata": {},
   "outputs": [],
   "source": [
    "# Loss Function\n",
    "loss = nn.MSELoss()\n",
    "# Optimizer\n",
    "opt = optim.Adam(model.parameters(), lr=0.0001)"
   ]
  },
  {
   "attachments": {},
   "cell_type": "markdown",
   "metadata": {},
   "source": [
    "#### Training"
   ]
  },
  {
   "cell_type": "code",
   "execution_count": 202,
   "metadata": {},
   "outputs": [
    {
     "name": "stdout",
     "output_type": "stream",
     "text": [
      "For epoch 0 loss is 0.5683562755584717\n",
      "For epoch 20 loss is 0.43956321477890015\n",
      "For epoch 40 loss is 0.3804299235343933\n",
      "For epoch 60 loss is 0.26549187302589417\n",
      "For epoch 80 loss is 0.14563171565532684\n",
      "For epoch 100 loss is 0.11780024319887161\n",
      "For epoch 120 loss is 0.09279187768697739\n",
      "For epoch 140 loss is 0.07034705579280853\n",
      "For epoch 160 loss is 0.05245741084218025\n",
      "For epoch 180 loss is 0.038567766547203064\n",
      "For epoch 200 loss is 0.028766032308340073\n",
      "For epoch 220 loss is 0.02203543670475483\n",
      "For epoch 240 loss is 0.017570026218891144\n",
      "For epoch 260 loss is 0.014715893194079399\n",
      "For epoch 280 loss is 0.012957718223333359\n",
      "For epoch 300 loss is 0.011909187771379948\n",
      "For epoch 320 loss is 0.01129916775971651\n",
      "For epoch 340 loss is 0.01094520278275013\n",
      "For epoch 360 loss is 0.010732263326644897\n",
      "For epoch 380 loss is 0.010592295788228512\n",
      "For epoch 400 loss is 0.010487834922969341\n",
      "For epoch 420 loss is 0.010399317368865013\n",
      "For epoch 440 loss is 0.01031530275940895\n",
      "For epoch 460 loss is 0.010230368934571743\n",
      "For epoch 480 loss is 0.010140633210539818\n",
      "For epoch 500 loss is 0.00950673595070839\n",
      "For epoch 520 loss is 0.00996662862598896\n",
      "For epoch 540 loss is 0.00987365934997797\n",
      "For epoch 560 loss is 0.009752510115504265\n",
      "For epoch 580 loss is 0.00958285853266716\n",
      "For epoch 600 loss is 0.00935633759945631\n",
      "For epoch 620 loss is 0.009267891757190228\n",
      "For epoch 640 loss is 0.009196300990879536\n",
      "For epoch 660 loss is 0.00914912112057209\n",
      "For epoch 680 loss is 0.009114634245634079\n",
      "For epoch 700 loss is 0.009086834266781807\n",
      "For epoch 720 loss is 0.009063693694770336\n",
      "For epoch 740 loss is 0.009039604105055332\n",
      "For epoch 760 loss is 0.009024087339639664\n",
      "For epoch 780 loss is 0.00901107955724001\n",
      "For epoch 800 loss is 0.00899916049093008\n",
      "For epoch 820 loss is 0.008987367153167725\n",
      "For epoch 840 loss is 0.008975493721663952\n",
      "For epoch 860 loss is 0.008963861502707005\n",
      "For epoch 880 loss is 0.008951597847044468\n",
      "For epoch 900 loss is 0.008939789608120918\n",
      "For epoch 920 loss is 0.009102736599743366\n",
      "For epoch 940 loss is 0.008947072550654411\n",
      "For epoch 960 loss is 0.008928404189646244\n",
      "For epoch 980 loss is 0.008923637680709362\n"
     ]
    }
   ],
   "source": [
    "epochs = 1000\n",
    "batch_size = 100000\n",
    "loss_list = []\n",
    "for epoch in range(epochs):\n",
    "    for batch in range(0, x_train.shape[0], batch_size):\n",
    "        x = x_train[batch:batch+batch_size]\n",
    "        y = y_train[batch:batch+batch_size]\n",
    "        y_pred = model(x)\n",
    "        l = loss(y_pred, y)\n",
    "        opt.zero_grad()\n",
    "        l.backward()\n",
    "        opt.step()\n",
    "    loss_list.append(l)\n",
    "    if epoch % 20 == 0:\n",
    "        print(f\"For epoch {epoch} loss is {l.item()}\")"
   ]
  },
  {
   "cell_type": "code",
   "execution_count": 214,
   "metadata": {},
   "outputs": [
    {
     "name": "stdout",
     "output_type": "stream",
     "text": [
      "Train Accuracy 0.008992664515972137\n"
     ]
    }
   ],
   "source": [
    "with torch.no_grad():\n",
    "    y_pred = model(x_train)\n",
    "train_accuracy = torch.mean((y_pred - y_train)**2)\n",
    "print(f\"Train Accuracy {train_accuracy}\")"
   ]
  },
  {
   "cell_type": "code",
   "execution_count": 215,
   "metadata": {},
   "outputs": [
    {
     "name": "stdout",
     "output_type": "stream",
     "text": [
      "Test Accuracy 0.009229390881955624\n"
     ]
    }
   ],
   "source": [
    "with torch.no_grad():\n",
    "    y_pred = model(x_test)\n",
    "test_accuracy = torch.mean((y_pred - y_test)**2)\n",
    "print(f\"Test Accuracy {test_accuracy}\")"
   ]
  },
  {
   "cell_type": "code",
   "execution_count": 221,
   "metadata": {},
   "outputs": [
    {
     "data": {
      "image/png": "[encoded data removed]",
      "text/plain": [
       "<Figure size 640x480 with 1 Axes>"
      ]
     },
     "metadata": {},
     "output_type": "display_data"
    }
   ],
   "source": [
    "fig, ax = plt.subplots()\n",
    "\n",
    "# Plot the line\n",
    "ax.plot(loss_list, color='red', label='Loss')\n",
    "ax.plot([0, 1000], [0.0000000001, 0.0000000001], color='blue', label='Human Base Line')\n",
    "# Add title and axis labels\n",
    "ax.set_title('Loss vs Interations')\n",
    "ax.set_xlabel('Interations (Epochs)')\n",
    "ax.set_ylabel('(Loss)')\n",
    "ax.legend()\n",
    "\n",
    "# Display the plot\n",
    "plt.show()"
   ]
  },
  {
   "attachments": {},
   "cell_type": "markdown",
   "metadata": {},
   "source": [
    "If the human base line for this problem is e-10 as we now how to calculate sin(x). Then we can say that our model is doing a good job to learn the Sine function but it is underfitting.\n",
    "\n",
    "One thing we can do to reduce underfitting in this case is to increase the number of hidden layers and neurons in each layer and also increse the no of features."
   ]
  },
  {
   "cell_type": "markdown",
   "metadata": {},
   "source": []
  }
 ],
 "metadata": {
  "kernelspec": {
   "display_name": "venv",
   "language": "python",
   "name": "python3"
  },
  "language_info": {
   "codemirror_mode": {
    "name": "ipython",
    "version": 3
   },
   "file_extension": ".py",
   "mimetype": "text/x-python",
   "name": "python",
   "nbconvert_exporter": "python",
   "pygments_lexer": "ipython3",
   "version": "3.8.10"
  },
  "orig_nbformat": 4
 },
 "nbformat": 4,
 "nbformat_minor": 2
}
